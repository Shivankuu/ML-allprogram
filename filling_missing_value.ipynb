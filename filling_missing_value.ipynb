{
  "nbformat": 4,
  "nbformat_minor": 0,
  "metadata": {
    "colab": {
      "provenance": [],
      "authorship_tag": "ABX9TyPFD/0C3Mx1fkWMYaivJI6+",
      "include_colab_link": true
    },
    "kernelspec": {
      "name": "python3",
      "display_name": "Python 3"
    },
    "language_info": {
      "name": "python"
    }
  },
  "cells": [
    {
      "cell_type": "markdown",
      "metadata": {
        "id": "view-in-github",
        "colab_type": "text"
      },
      "source": [
        "<a href=\"https://colab.research.google.com/github/Shivankuu/ML-allprogram/blob/main/filling_missing_value.ipynb\" target=\"_parent\"><img src=\"https://colab.research.google.com/assets/colab-badge.svg\" alt=\"Open In Colab\"/></a>"
      ]
    },
    {
      "cell_type": "code",
      "execution_count": 2,
      "metadata": {
        "colab": {
          "base_uri": "https://localhost:8080/"
        },
        "id": "MEteYy4N4KyC",
        "outputId": "7c42f524-b041-41b4-c27c-61d0469b2b3f"
      },
      "outputs": [
        {
          "output_type": "stream",
          "name": "stdout",
          "text": [
            "Original Data:\n",
            "   NumericalFeature TextFeature\n",
            "0               1.0       apple\n",
            "1               2.0        None\n",
            "2               NaN      banana\n",
            "3               4.0      cherry\n",
            "4               5.0        None\n",
            "\n",
            "Data after filling missing values and removing any remaining rows with missing values:\n",
            "   NumericalFeature TextFeature\n",
            "0               1.0       apple\n",
            "1               2.0     Unknown\n",
            "2               3.0      banana\n",
            "3               4.0      cherry\n",
            "4               5.0     Unknown\n"
          ]
        }
      ],
      "source": [
        "import pandas as pd\n",
        "# Sample data with missing values\n",
        "data = {\n",
        " 'NumericalFeature': [1, 2, None, 4, 5],\n",
        " 'TextFeature': ['apple', None, 'banana', 'cherry', None]\n",
        "}\n",
        "df = pd.DataFrame(data)\n",
        "# Display original data\n",
        "print(\"Original Data:\")\n",
        "print(df)\n",
        "# Fill missing numerical values with the mean of the column\n",
        "df['NumericalFeature'] = df['NumericalFeature'].fillna(df['NumericalFeature'].mean())\n",
        "# Fill missing text values with 'Unknown'\n",
        "df['TextFeature'] = df['TextFeature'].fillna('Unknown')\n",
        "# Drop rows with any remaining missing values (if any)\n",
        "df_cleaned = df.dropna()\n",
        "# Display the DataFrame after handling missing values\n",
        "print(\"\\nData after filling missing values and removing any remaining rows with missing values:\")\n",
        "print(df_cleaned)\n"
      ]
    }
  ]
}