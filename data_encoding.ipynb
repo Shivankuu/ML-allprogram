{
  "nbformat": 4,
  "nbformat_minor": 0,
  "metadata": {
    "colab": {
      "provenance": [],
      "authorship_tag": "ABX9TyON0toGtcpZI6HgV2wK4NK5",
      "include_colab_link": true
    },
    "kernelspec": {
      "name": "python3",
      "display_name": "Python 3"
    },
    "language_info": {
      "name": "python"
    }
  },
  "cells": [
    {
      "cell_type": "markdown",
      "metadata": {
        "id": "view-in-github",
        "colab_type": "text"
      },
      "source": [
        "<a href=\"https://colab.research.google.com/github/Shivankuu/ML-allprogram/blob/main/data_encoding.ipynb\" target=\"_parent\"><img src=\"https://colab.research.google.com/assets/colab-badge.svg\" alt=\"Open In Colab\"/></a>"
      ]
    },
    {
      "cell_type": "code",
      "source": [
        "import pandas as pd\n",
        "from sklearn.preprocessing import LabelEncoder, StandardScaler\n",
        "# Sample data\n",
        "data = {\n",
        " 'Color': ['Red', 'Blue', 'Green', 'Blue', 'Red'],\n",
        " 'Size': ['S', 'M', 'L', 'M', 'S'],\n",
        " 'Price': [10, 20, 30, 20, 10]\n",
        "}\n",
        "df = pd.DataFrame(data)\n",
        "# Print original data\n",
        "print(\"Original Data:\")\n",
        "print(df)\n",
        "# Encode categorical variables\n",
        "label_encoder = LabelEncoder()\n",
        "df['Color'] = label_encoder.fit_transform(df['Color'])\n",
        "df['Size'] = label_encoder.fit_transform(df['Size'])\n",
        "# Scale numerical feature\n",
        "scaler = StandardScaler()\n",
        "df['Price'] = scaler.fit_transform(df[['Price']])\n",
        "# Print processed data\n",
        "print(\"\\nProcessed Data:\")\n",
        "print(df)"
      ],
      "metadata": {
        "colab": {
          "base_uri": "https://localhost:8080/"
        },
        "id": "RUMKxOmq5tBd",
        "outputId": "097a05ea-cc4a-4e5b-93a9-ef00df5655ae"
      },
      "execution_count": 3,
      "outputs": [
        {
          "output_type": "stream",
          "name": "stdout",
          "text": [
            "Original Data:\n",
            "   Color Size  Price\n",
            "0    Red    S     10\n",
            "1   Blue    M     20\n",
            "2  Green    L     30\n",
            "3   Blue    M     20\n",
            "4    Red    S     10\n",
            "\n",
            "Processed Data:\n",
            "   Color  Size     Price\n",
            "0      2     2 -1.069045\n",
            "1      0     1  0.267261\n",
            "2      1     0  1.603567\n",
            "3      0     1  0.267261\n",
            "4      2     2 -1.069045\n"
          ]
        }
      ]
    }
  ]
}