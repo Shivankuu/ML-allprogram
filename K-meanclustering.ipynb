{
  "nbformat": 4,
  "nbformat_minor": 0,
  "metadata": {
    "colab": {
      "provenance": [],
      "authorship_tag": "ABX9TyNHGpY4qdWAyvV/GpkLK+Am",
      "include_colab_link": true
    },
    "kernelspec": {
      "name": "python3",
      "display_name": "Python 3"
    },
    "language_info": {
      "name": "python"
    }
  },
  "cells": [
    {
      "cell_type": "markdown",
      "metadata": {
        "id": "view-in-github",
        "colab_type": "text"
      },
      "source": [
        "<a href=\"https://colab.research.google.com/github/Shivankuu/ML-allprogram/blob/main/K-meanclustering.ipynb\" target=\"_parent\"><img src=\"https://colab.research.google.com/assets/colab-badge.svg\" alt=\"Open In Colab\"/></a>"
      ]
    },
    {
      "cell_type": "code",
      "execution_count": null,
      "metadata": {
        "colab": {
          "base_uri": "https://localhost:8080/"
        },
        "id": "nb8DE_t9THLM",
        "outputId": "98c21215-de69-436a-fab8-d9857150d2ec"
      },
      "outputs": [
        {
          "output_type": "stream",
          "name": "stdout",
          "text": [
            "Final cluster assignments: [0 0 0 0 0 1 1 0 1]\n",
            "Final centroids: [[ 7.]\n",
            " [25.]]\n"
          ]
        }
      ],
      "source": [
        "from sklearn.cluster import KMeans\n",
        "\n",
        "# Step 1: Define the dataset as a Python list\n",
        "data = [[2], [4], [10], [12], [3], [20], [30], [11], [25]]\n",
        "\n",
        "# Step 2: Initialize KMeans with 2 clusters and predefined centroids\n",
        "kmeans = KMeans(n_clusters=2, init=[[4], [11]], n_init=1, random_state=42)\n",
        "\n",
        "# Step 3: Fit the model to the data\n",
        "kmeans.fit(data)\n",
        "\n",
        "# Step 4: Get the final cluster assignments\n",
        "clusters = kmeans.labels_\n",
        "\n",
        "# Step 5: Get the final centroids\n",
        "final_centroids = kmeans.cluster_centers_\n",
        "\n",
        "# Output the results\n",
        "print(\"Final cluster assignments:\", clusters)\n",
        "print(\"Final centroids:\", final_centroids)"
      ]
    }
  ]
}