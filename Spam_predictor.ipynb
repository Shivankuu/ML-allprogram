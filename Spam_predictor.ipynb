{
  "nbformat": 4,
  "nbformat_minor": 0,
  "metadata": {
    "colab": {
      "provenance": [],
      "authorship_tag": "ABX9TyPdmeELyZRubrbE6W284Sx0",
      "include_colab_link": true
    },
    "kernelspec": {
      "name": "python3",
      "display_name": "Python 3"
    },
    "language_info": {
      "name": "python"
    }
  },
  "cells": [
    {
      "cell_type": "markdown",
      "metadata": {
        "id": "view-in-github",
        "colab_type": "text"
      },
      "source": [
        "<a href=\"https://colab.research.google.com/github/Shivankuu/ML-allprogram/blob/main/Spam_predictor.ipynb\" target=\"_parent\"><img src=\"https://colab.research.google.com/assets/colab-badge.svg\" alt=\"Open In Colab\"/></a>"
      ]
    },
    {
      "cell_type": "code",
      "source": [
        "# Import necessary libraries\n",
        "from sklearn.feature_extraction.text import CountVectorizer\n",
        "from sklearn.linear_model import LogisticRegression\n",
        "from sklearn.model_selection import train_test_split\n",
        "\n",
        "# Simple dataset\n",
        "data = {\n",
        "    'message': [\n",
        "        'Free money now',\n",
        "        'Hi, how are you?',\n",
        "        'Win a free iPhone',\n",
        "        'Let’s catch up tomorrow',\n",
        "        'Congratulations, you won!',\n",
        "        'Do you want to hang out?'\n",
        "    ],\n",
        "    'label': [1, 0, 1, 0, 1, 0]  # 1: Spam, 0: Not Spam\n",
        "}\n",
        "\n",
        "# Vectorizing the messages\n",
        "vectorizer = CountVectorizer()\n",
        "X = vectorizer.fit_transform(data['message'])\n",
        "y = data['label']\n",
        "\n",
        "# Split the dataset into training and testing sets\n",
        "X_train, X_test, y_train, y_test = train_test_split(X, y, test_size=0.3, random_state=42)\n",
        "\n",
        "# Logistic Regression model\n",
        "model = LogisticRegression()\n",
        "model.fit(X_train, y_train)\n",
        "\n",
        "# Take user input\n",
        "user_input = input(\"Enter a message: \")\n",
        "\n",
        "# Vectorize the input\n",
        "user_input_vectorized = vectorizer.transform([user_input])\n",
        "\n",
        "# Predict if the message is spam or not\n",
        "prediction = model.predict(user_input_vectorized)[0]\n",
        "\n",
        "# Output the result\n",
        "if prediction == 1:\n",
        "    print(\"This is a Spam message.\")\n",
        "else:\n",
        "    print(\"This is not a Spam message.\")"
      ],
      "metadata": {
        "colab": {
          "base_uri": "https://localhost:8080/"
        },
        "id": "ThbcqF1kWyDS",
        "outputId": "6b8ef9f5-daac-4294-8562-c566f0c0d403"
      },
      "execution_count": 3,
      "outputs": [
        {
          "output_type": "stream",
          "name": "stdout",
          "text": [
            "Enter a message: congratulation\n",
            "This is a Spam message.\n"
          ]
        }
      ]
    }
  ]
}